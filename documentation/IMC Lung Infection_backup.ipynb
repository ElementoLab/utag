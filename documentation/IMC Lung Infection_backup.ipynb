{
 "cells": [
  {
   "cell_type": "markdown",
   "id": "b7f88e93-9d66-4c2a-bd39-e5c4c7967c25",
   "metadata": {},
   "source": [
    "# IMC Lung Disease Data Domain Classification using UTAG"
   ]
  },
  {
   "cell_type": "markdown",
   "id": "26fd0b98",
   "metadata": {},
   "source": [
    "## Loading Libraries and Data"
   ]
  },
  {
   "cell_type": "code",
   "execution_count": 1,
   "id": "68030502",
   "metadata": {},
   "outputs": [
    {
     "name": "stdout",
     "output_type": "stream",
     "text": [
      "C:\\Users\\jkim0\\imc-graph\\gatdu\n"
     ]
    }
   ],
   "source": [
    "cd ~/imc-graph/gatdu"
   ]
  },
  {
   "cell_type": "code",
   "execution_count": 2,
   "id": "6b1da404",
   "metadata": {},
   "outputs": [
    {
     "name": "stdout",
     "output_type": "stream",
     "text": [
      "Warning, OS could not be easily identified. Using default dir ~/.gatdu to store resources but that might not work!\n"
     ]
    }
   ],
   "source": [
    "from gatdu.segmentation import segment_slide, evaluate_performance\n",
    "from gatdu.vizualize import add_spatial_image, adj2chord\n",
    "from gatdu.utils import domain_connectivity, celltype_connectivity, evaluate_clustering\n",
    "\n",
    "import scanpy as sc\n",
    "import pandas as pd\n",
    "import matplotlib.pyplot as plt\n",
    "\n",
    "sc.settings.set_figure_params(dpi=150, fontsize= 6, dpi_save = 300)"
   ]
  },
  {
   "cell_type": "code",
   "execution_count": 3,
   "id": "1f1d2a36",
   "metadata": {},
   "outputs": [
    {
     "name": "stdout",
     "output_type": "stream",
     "text": [
      "C:\\Users\\jkim0\\imc-graph\\covid-imc1\n"
     ]
    }
   ],
   "source": [
    "cd ~/imc-graph/covid-imc1"
   ]
  },
  {
   "cell_type": "code",
   "execution_count": 6,
   "id": "2873830b",
   "metadata": {},
   "outputs": [
    {
     "data": {
      "text/plain": [
       "View of AnnData object with n_obs × n_vars = 627125 × 37\n",
       "    obs: 'sample', 'roi', 'obj_id', 'X_centroid', 'Y_centroid', 'area', 'perimeter', 'major_axis_length', 'eccentricity', 'solidity'\n",
       "    obsm: 'spatial'"
      ]
     },
     "execution_count": 6,
     "metadata": {},
     "output_type": "execute_result"
    }
   ],
   "source": [
    "#\n",
    "adata = sc.read('gatdu_adata.h5ad')\n",
    "adata"
   ]
  },
  {
   "cell_type": "code",
   "execution_count": 5,
   "id": "3dbca75a-194f-48bc-b924-e9283ffb5b6a",
   "metadata": {},
   "outputs": [],
   "source": [
    "results = sc.read('gatdu_results.h5ad')"
   ]
  },
  {
   "cell_type": "markdown",
   "id": "df17c736",
   "metadata": {},
   "source": [
    "## UTAG Preprocessing"
   ]
  },
  {
   "cell_type": "code",
   "execution_count": 8,
   "id": "b59d73d3-3e48-482d-a761-ad036570192e",
   "metadata": {},
   "outputs": [
    {
     "name": "stderr",
     "output_type": "stream",
     "text": [
      "C:\\Users\\jkim0\\anaconda3\\envs\\imc-graph\\lib\\site-packages\\scanpy\\preprocessing\\_simple.py:373: UserWarning: Revieved a view of an AnnData. Making a copy.\n",
      "  view_to_actual(adata)\n"
     ]
    }
   ],
   "source": [
    "adata = sc.read('processed/quantification.filtered.h5ad')\n",
    "adata = adata[:,~adata.var.index.str.contains('190BCKG')]\n",
    "\n",
    "sc.pp.log1p(adata)\n",
    "z_score_cap = 3.0\n",
    "batch_key = 'sample'\n",
    "sc.pp.scale(adata, max_value=z_score_cap)\n",
    "adata.X[adata.X < -z_score_cap] = -z_score_cap\n",
    "\n",
    "#sc.external.pp.mnn_correct(adata, key = batch_key)\n",
    "sc.pp.combat(adata, key = batch_key)\n",
    "sc.pp.scale(adata, max_value=z_score_cap)\n",
    "adata.X[adata.X < -z_score_cap] = -z_score_cap"
   ]
  },
  {
   "cell_type": "markdown",
   "id": "a1201f0a-47b7-4912-995e-8417ed95a378",
   "metadata": {},
   "source": [
    "# Running UTAG Algorithm"
   ]
  },
  {
   "cell_type": "code",
   "execution_count": null,
   "id": "95c49c94-baa3-4039-99df-076621715fb0",
   "metadata": {},
   "outputs": [],
   "source": [
    "%%time\n",
    "results = segment_slide(adata, slide_key = 'roi', max_dist = 20, normalize_adjacency_matrix = True, batch_key = 'sample', apply_clustering = True, clustering_method = 'parc')"
   ]
  },
  {
   "cell_type": "code",
   "execution_count": 19,
   "id": "46a5b1f3-75d9-4089-8d1e-ff4c7509d67d",
   "metadata": {},
   "outputs": [],
   "source": [
    "adata.write('gatdu_adata_parc.h5ad')"
   ]
  },
  {
   "cell_type": "code",
   "execution_count": 18,
   "id": "d0152516-ea5b-4867-b51f-d5e8d82ff345",
   "metadata": {},
   "outputs": [],
   "source": [
    "results.write('utag_results_parc.h5ad')"
   ]
  },
  {
   "cell_type": "markdown",
   "id": "c1a3d9e9-ff2c-4278-a051-82999bb51f22",
   "metadata": {
    "tags": []
   },
   "source": [
    "## Visualizing Results"
   ]
  },
  {
   "cell_type": "code",
   "execution_count": 4,
   "id": "ef5a2d03-e345-4dd7-8af9-942e06279812",
   "metadata": {},
   "outputs": [],
   "source": [
    "adata = sc.read('gatdu_adata_parc.h5ad')\n",
    "results = sc.read('utag_results_parc.h5ad')"
   ]
  },
  {
   "cell_type": "code",
   "execution_count": null,
   "id": "bb275969-213e-497e-b6c9-b9594b982694",
   "metadata": {},
   "outputs": [],
   "source": [
    "import seaborn as sns\n",
    "\n",
    "cm = sns.clustermap(results.to_df().corr(), cmap = 'coolwarm', vmin = -1, vmax = 1)\n",
    "var_order = results.var.iloc[cm.dendrogram_col.reordered_ind].index"
   ]
  },
  {
   "cell_type": "code",
   "execution_count": null,
   "id": "a4b53d12-4629-43fa-834a-3d9d6324401e",
   "metadata": {},
   "outputs": [],
   "source": [
    "#sc.pl.StackedViolin(result, var_names = result.var.index, groupby='cluster', dendrogram = True, cmap = 'coolwarm').legend(title = 'Median').show()\n",
    "#plt.figure(dpi = 300, figsize = (2000,2000))\n",
    "\n",
    "results.obs['UTAG Label'] = pd.Categorical(results.obs['UTAG Label_parc_0.3'])\n",
    "adata.obs['UTAG Label'] = results.obs['UTAG Label']\n",
    "adata.uns['UTAG Label_colors'] = (sns.color_palette('tab10').as_hex() + sns.color_palette('tab20b').as_hex() + sns.color_palette('tab20c').as_hex())[:len(adata.obs['UTAG Label'].unique())]\n",
    "results.uns['UTAG Label_colors'] = adata.uns['UTAG Label_colors']\n",
    "\n",
    "sc.settings.set_figure_params(dpi=300, fontsize= 10)\n",
    "#sc.pl.matrixplot(results, var_names = var_order, groupby='UTAG Label', cmap = 'coolwarm', vmin = -1, vmax = 1, show = True, save = 'unlabelled_matrixplot')\n",
    "mp = sc.pl.matrixplot(adata, var_names = var_order, groupby='UTAG Label',vmin = -1, vmax = 1, return_fig=True)\n",
    "mp.add_totals().style(edge_color='black', cmap = 'coolwarm').savefig('figures/unlabelled_matrixplot_0.1.pdf')"
   ]
  },
  {
   "cell_type": "markdown",
   "id": "9e66c9dd-cc94-4e11-ac9f-8ef87ecd0c00",
   "metadata": {},
   "source": [
    "## Labelling Results"
   ]
  },
  {
   "cell_type": "code",
   "execution_count": 5,
   "id": "51a1d8be-e063-41ec-b075-250f80340399",
   "metadata": {},
   "outputs": [
    {
     "name": "stderr",
     "output_type": "stream",
     "text": [
      "Trying to set attribute `.uns` of view, copying.\n",
      "Trying to set attribute `.uns` of view, copying.\n"
     ]
    }
   ],
   "source": [
    "import numpy as np\n",
    "import seaborn as sns\n",
    "\n",
    "UTAG_parc_1_mapper_broad = {\n",
    "    0: 'Airway Wall',\n",
    "    1: 'Airway Wall',\n",
    "    2: 'Alveolar',\n",
    "    3: 'Airway Wall',\n",
    "    4: 'Epithelial Cell',\n",
    "    5: 'Vessel',\n",
    "    6: 'Immune Cell',\n",
    "    7: 'Airway Wall',\n",
    "    8: 'Immune Cell',\n",
    "    9: 'Immune Cell',\n",
    "    10: 'Vessel',\n",
    "    11: 'Immune Cell',\n",
    "    12: 'Airway Wall',\n",
    "    13: 'Epithelial Cell',\n",
    "    14: 'Immune Cell',\n",
    "    15: 'Immune Cell',\n",
    "    16: 'Immune Cell',\n",
    "    17: 'Submucousal Gland',\n",
    "    18: 'Cartillage',\n",
    "    19: None\n",
    "}\n",
    "\n",
    "\n",
    "adata.obs['UTAG Label'] = pd.Categorical(results.obs['UTAG Label_parc_0.3'].replace(UTAG_parc_1_mapper_broad))\n",
    "results.obs['UTAG Label'] = adata.obs['UTAG Label'] \n",
    "\n",
    "adata = adata[~adata.obs['UTAG Label'].isna()]\n",
    "results = results[~results.obs['UTAG Label'].isna()]\n",
    "\n",
    "adata.uns['UTAG Label_colors'] = np.array(sns.color_palette('tab10').as_hex() + sns.color_palette('tab20b').as_hex() + sns.color_palette('tab20c').as_hex()).astype('object')\n",
    "results.uns['UTAG Label_colors'] = np.array(sns.color_palette('tab10').as_hex() + sns.color_palette('tab20b').as_hex() + sns.color_palette('tab20c').as_hex()).astype('object')\n",
    "\n",
    "adata.uns['UTAG Label_colors'] = adata.uns['UTAG Label_colors'][:adata.obs['UTAG Label'].unique().shape[0]]\n",
    "results.uns['UTAG Label_colors'] = results.uns['UTAG Label_colors'][:results.obs['UTAG Label'].unique().shape[0]]\n",
    "adata.write('utag_adata_parc_0.3_annotated2.h5ad')\n",
    "results.write('utag_results_parc_0.3_annotated2.h5ad')"
   ]
  },
  {
   "cell_type": "code",
   "execution_count": 51,
   "id": "5c994bc8-a60d-4229-bfa9-f39fe8a1513b",
   "metadata": {},
   "outputs": [],
   "source": [
    "adata.uns['UTAG Label_colors'] = sns.color_palette('tab10').as_hex()[:len(adata.obs['UTAG Label'].unique())]\n",
    "results.uns['UTAG Label_colors'] = adata.uns['UTAG Label_colors']"
   ]
  },
  {
   "cell_type": "code",
   "execution_count": 9,
   "id": "a5fc88b8-31b1-4d49-93c2-fac8382cbf83",
   "metadata": {},
   "outputs": [],
   "source": [
    "results.obs['UTAG Label'] = pd.Categorical(results.obs['UTAG Label'], categories = ['Epithelial Cell', 'Airway Wall', 'Alveolar', 'Immune Cell', 'Submucousal Gland', 'Vessel', 'Cartillage'])"
   ]
  },
  {
   "cell_type": "code",
   "execution_count": 6,
   "id": "bf95dbfa-f91a-493e-b753-34b34ecb6c17",
   "metadata": {},
   "outputs": [
    {
     "ename": "NameError",
     "evalue": "name 'var_order' is not defined",
     "output_type": "error",
     "traceback": [
      "\u001b[1;31m---------------------------------------------------------------------------\u001b[0m",
      "\u001b[1;31mNameError\u001b[0m                                 Traceback (most recent call last)",
      "\u001b[1;32m~\\AppData\\Local\\Temp/ipykernel_1820/2296057344.py\u001b[0m in \u001b[0;36m<module>\u001b[1;34m\u001b[0m\n\u001b[1;32m----> 1\u001b[1;33m \u001b[0mmp\u001b[0m \u001b[1;33m=\u001b[0m \u001b[0msc\u001b[0m\u001b[1;33m.\u001b[0m\u001b[0mpl\u001b[0m\u001b[1;33m.\u001b[0m\u001b[0mmatrixplot\u001b[0m\u001b[1;33m(\u001b[0m\u001b[0mresults\u001b[0m\u001b[1;33m,\u001b[0m \u001b[0mvar_names\u001b[0m \u001b[1;33m=\u001b[0m \u001b[0mvar_order\u001b[0m\u001b[1;33m,\u001b[0m \u001b[0mgroupby\u001b[0m\u001b[1;33m=\u001b[0m\u001b[1;34m'UTAG Label'\u001b[0m\u001b[1;33m,\u001b[0m \u001b[0mvmin\u001b[0m \u001b[1;33m=\u001b[0m \u001b[1;33m-\u001b[0m\u001b[1;36m1\u001b[0m\u001b[1;33m,\u001b[0m \u001b[0mvmax\u001b[0m \u001b[1;33m=\u001b[0m \u001b[1;36m1\u001b[0m\u001b[1;33m,\u001b[0m \u001b[0mreturn_fig\u001b[0m\u001b[1;33m=\u001b[0m\u001b[1;32mTrue\u001b[0m\u001b[1;33m)\u001b[0m\u001b[1;33m\u001b[0m\u001b[1;33m\u001b[0m\u001b[0m\n\u001b[0m\u001b[0;32m      2\u001b[0m \u001b[0mmp\u001b[0m\u001b[1;33m.\u001b[0m\u001b[0madd_totals\u001b[0m\u001b[1;33m(\u001b[0m\u001b[1;33m)\u001b[0m\u001b[1;33m.\u001b[0m\u001b[0mstyle\u001b[0m\u001b[1;33m(\u001b[0m\u001b[0medge_color\u001b[0m\u001b[1;33m=\u001b[0m\u001b[1;34m'black'\u001b[0m\u001b[1;33m,\u001b[0m \u001b[0mcmap\u001b[0m \u001b[1;33m=\u001b[0m \u001b[1;34m'coolwarm'\u001b[0m\u001b[1;33m)\u001b[0m\u001b[1;33m.\u001b[0m\u001b[0msavefig\u001b[0m\u001b[1;33m(\u001b[0m\u001b[1;34m'figures/labelled_matrixplot2.pdf'\u001b[0m\u001b[1;33m)\u001b[0m\u001b[1;33m\u001b[0m\u001b[1;33m\u001b[0m\u001b[0m\n",
      "\u001b[1;31mNameError\u001b[0m: name 'var_order' is not defined"
     ]
    }
   ],
   "source": [
    "mp = sc.pl.matrixplot(results, var_names = var_order, groupby='UTAG Label', vmin = -1, vmax = 1, return_fig=True)\n",
    "mp.add_totals().style(edge_color='black', cmap = 'coolwarm').savefig('figures/labelled_matrixplot2.pdf')"
   ]
  },
  {
   "cell_type": "code",
   "execution_count": 79,
   "id": "c99ef6bf-014e-4bf5-adf9-3b5aa81620c8",
   "metadata": {},
   "outputs": [],
   "source": [
    "adata.write('UTAG_adata.h5ad')\n",
    "results.write('UTAG_results.h5ad')"
   ]
  },
  {
   "cell_type": "markdown",
   "id": "b73c9713-0bbf-425b-9fdc-96ec98e392fc",
   "metadata": {},
   "source": [
    "# Visualizing of UTAG Clusters"
   ]
  },
  {
   "cell_type": "code",
   "execution_count": 4,
   "id": "8d55b97d-4129-4789-8b0c-0a19bb00fa22",
   "metadata": {},
   "outputs": [],
   "source": [
    "adata = sc.read('UTAG_adata.h5ad')\n",
    "results = sc.read('UTAG_results.h5ad')"
   ]
  },
  {
   "cell_type": "code",
   "execution_count": 28,
   "id": "479bf38e-e7c2-431c-a2b8-9f9ab26b343b",
   "metadata": {},
   "outputs": [
    {
     "data": {
      "text/plain": [
       "AnnData object with n_obs × n_vars = 627125 × 37\n",
       "    obs: 'sample', 'roi', 'obj_id', 'X_centroid', 'Y_centroid', 'area', 'perimeter', 'major_axis_length', 'eccentricity', 'solidity', 'UTAG Label'\n",
       "    var: 'mean', 'std'\n",
       "    uns: 'log1p', 'UTAG Label_colors'\n",
       "    obsm: 'spatial'"
      ]
     },
     "execution_count": 28,
     "metadata": {},
     "output_type": "execute_result"
    }
   ],
   "source": [
    "adata"
   ]
  },
  {
   "cell_type": "code",
   "execution_count": 10,
   "id": "d610669c-1262-4329-9c42-bbcfefd7ff81",
   "metadata": {},
   "outputs": [],
   "source": [
    "def add_scale_box_to_fig(\n",
    "    img,\n",
    "    ax,\n",
    "    box_width: int = 200,\n",
    "    box_height: float = 2,\n",
    "    color: str = 'white'\n",
    "):    \n",
    "    import matplotlib.patches as patches\n",
    "    x = img.shape[1]\n",
    "    y = img.shape[0]\n",
    "    \n",
    "    # Create a Rectangle patch\n",
    "    rect = patches.Rectangle((x - box_width, y * (1-box_height/100)), box_width, y * (box_height/100), linewidth=0.2, edgecolor='black', facecolor=color)\n",
    "\n",
    "    # Add the patch to the Axes\n",
    "    ax.add_patch(rect)\n",
    "    return ax"
   ]
  },
  {
   "cell_type": "code",
   "execution_count": 12,
   "id": "c4b7f21c",
   "metadata": {
    "tags": []
   },
   "outputs": [
    {
     "name": "stderr",
     "output_type": "stream",
     "text": [
      "100%|██████████| 237/237 [10:04<00:00,  2.55s/it]\n"
     ]
    }
   ],
   "source": [
    "from tqdm import tqdm\n",
    "sc.settings.set_figure_params(dpi=150, fontsize= 6, dpi_save = 300)\n",
    "\n",
    "point_size = 6\n",
    "i = 0\n",
    "for slide in tqdm(results.obs['roi'].unique()):\n",
    "    result_batch = results[results.obs['roi'] == slide].copy()\n",
    "    ad_batch = adata[adata.obs['roi'] == slide].copy()\n",
    "    sample = result_batch.obs['sample'].unique()[0]\n",
    "    fig, axs = plt.subplots(1, 2, figsize = (10,4), dpi = 300)\n",
    "    result_batch = add_spatial_image(adata = result_batch,\n",
    "                          image_path = f'processed//{sample}/tiffs/{slide}_full.tiff',\n",
    "                          rgb_channels = [36, 4, 41], # Keratin 8/18, aSMA, DNA2\n",
    "                          gamma = 1,\n",
    "                          gain = 0.2,\n",
    "                          log_transform = True)\n",
    "    \n",
    "    sc.pl.spatial(result_batch, spot_size = 10, ax = axs[0], show = False, title = f'ROI: {slide}', frameon = False)\n",
    "    #sc.pl.spatial(ad_batch, color = 'leiden', spot_size = 10, ax = axs[1], show = False, title = 'Celltype Labels on Image', frameon = False, legend_loc = 'on data', legend_fontoutline = 0, legend_fontsize = 0)\n",
    "    sc.pl.spatial(result_batch, color = 'UTAG Label', spot_size = 15, ax = axs[1], show = False, title = 'UTAG Labels on Image', frameon = False, legend_fontsize = 5, alpha_img = 0)\n",
    "    \n",
    "    add_scale_box_to_fig(result_batch.uns[\"spatial\"]['image'][\"images\"][\"hires\"], axs[0])\n",
    "    plt.tight_layout()\n",
    "    #plt.show()\n",
    "    plt.savefig(f'figures/{slide}_utag_0.3_labelled2.png')\n",
    "    plt.close()\n",
    "    i += 1"
   ]
  },
  {
   "cell_type": "code",
   "execution_count": 27,
   "id": "d5fc950a-0cb6-4fc2-84e0-b69f8ef5f5b4",
   "metadata": {},
   "outputs": [
    {
     "name": "stderr",
     "output_type": "stream",
     "text": [
      "C:\\Users\\jkim0\\AppData\\Local\\Temp/ipykernel_10188/293749224.py:1: FutureWarning: The default value of regex will change from True to False in a future version.\n",
      "  results.obs['disease'] = results.obs['sample'].str.replace('[0-9]*','').str.replace('[0-9]*','').str[1:]\n"
     ]
    }
   ],
   "source": [
    "results.obs['disease'] = results.obs['sample'].str.replace('[0-9]*','').str.replace('[0-9]*','').str[1:]"
   ]
  },
  {
   "cell_type": "code",
   "execution_count": null,
   "id": "6c1076fe-6772-4ace-b6bb-0dfb665188a8",
   "metadata": {},
   "outputs": [],
   "source": [
    "point_size = 4\n",
    "i = 0\n",
    "for slide in result.obs['roi'].unique():\n",
    "    if i > 30:\n",
    "        break\n",
    "    if 'LATE' in slide:\n",
    "        result_batch = result[result.obs['roi'] == slide].copy()\n",
    "        ad_batch = adata[adata.obs['roi'] == slide].copy()\n",
    "        sample = result_batch.obs['sample'].unique()[0]\n",
    "        fig, axs = plt.subplots(1, 5, figsize = (20,4), dpi = 300)\n",
    "        result_batch = add_spatial_image(adata = result_batch,\n",
    "                              image_path = f'processed//{sample}/tiffs/{slide}_full.tiff',\n",
    "                              YX_coordinates = result_batch.obs[['Y_centroid', 'X_centroid']],\n",
    "                              rgb_channels = [36, 4, 41], # SARSSpikeS1, aSMA, DNA\n",
    "                              contrast_percentile = (0, 98),\n",
    "                              log_transform = True)\n",
    "\n",
    "        sc.pl.spatial(result_batch, spot_size = 10, ax = axs[0], show = False, title = f'ROI: {slide}', frameon = False)\n",
    "        sc.pl.umap(ad_batch, color = 'leiden', ax = axs[1], show = False, title = 'Celltype UMAP', frameon = False, size = point_size, legend_loc = 'on data', legend_fontoutline = 1, legend_fontsize = 3)\n",
    "        sc.pl.spatial(ad_batch, color = 'leiden', spot_size = 10, ax = axs[2], show = False, title = 'Celltype Labels on Image', frameon = False, legend_loc = 'on data', legend_fontoutline = 0, legend_fontsize = 0)\n",
    "        sc.pl.umap(result_batch, color = 'UTAG Label', ax = axs[3], show = False, title = 'UTAG UMAP', frameon = False, size = point_size, legend_loc = 'on data', legend_fontoutline = 1, legend_fontsize = 3)\n",
    "        sc.pl.spatial(result_batch, color = 'UTAG Label', spot_size = 10, ax = axs[4], show = False, title = 'UTAG Labels on Image', frameon = False, legend_fontsize = 5, alpha_img = 0)\n",
    "\n",
    "        #plt.tight_layout()\n",
    "        plt.show()\n",
    "        i += 1"
   ]
  }
 ],
 "metadata": {
  "kernelspec": {
   "display_name": "Python 3 (ipykernel)",
   "language": "python",
   "name": "python3"
  },
  "language_info": {
   "codemirror_mode": {
    "name": "ipython",
    "version": 3
   },
   "file_extension": ".py",
   "mimetype": "text/x-python",
   "name": "python",
   "nbconvert_exporter": "python",
   "pygments_lexer": "ipython3",
   "version": "3.8.10"
  }
 },
 "nbformat": 4,
 "nbformat_minor": 5
}
