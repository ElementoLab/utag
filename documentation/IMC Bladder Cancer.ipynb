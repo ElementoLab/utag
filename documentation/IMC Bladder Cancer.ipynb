{
 "cells": [
  {
   "cell_type": "markdown",
   "id": "04c9ebf7-b789-488f-95f4-9e3a7144de40",
   "metadata": {
    "tags": []
   },
   "source": [
    "# IMC UTUC Data Compartment Classification using UTAG\n"
   ]
  },
  {
   "cell_type": "markdown",
   "id": "7a3e55f2",
   "metadata": {},
   "source": [
    "## Loading Libraries"
   ]
  },
  {
   "cell_type": "code",
   "execution_count": 14,
   "id": "34edf4d1",
   "metadata": {},
   "outputs": [
    {
     "name": "stdout",
     "output_type": "stream",
     "text": [
      "C:\\Users\\jkim0\\imc-graph\\utag\n"
     ]
    }
   ],
   "source": [
    "cd ~/imc-graph/utag"
   ]
  },
  {
   "cell_type": "code",
   "execution_count": 3,
   "id": "9e5a3844",
   "metadata": {},
   "outputs": [
    {
     "name": "stdout",
     "output_type": "stream",
     "text": [
      "Warning, OS could not be easily identified. Using default dir ~/.utag to store resources but that might not work!\n"
     ]
    }
   ],
   "source": [
    "import matplotlib.pyplot as plt\n",
    "import pandas as pd\n",
    "import scanpy as sc\n",
    "import seaborn as sns\n",
    "from IPython.display import display\n",
    "from utag.segmentation import UTAG, evaluate_performance\n",
    "\n",
    "sc.settings.set_figure_params(dpi=100, dpi_save=300, fontsize=6)"
   ]
  },
  {
   "cell_type": "code",
   "execution_count": 4,
   "id": "51767741",
   "metadata": {},
   "outputs": [
    {
     "name": "stdout",
     "output_type": "stream",
     "text": [
      "C:\\Users\\jkim0\\imc-graph\\imc_utuc\n"
     ]
    }
   ],
   "source": [
    "cd ~/imc-graph/imc_utuc/"
   ]
  },
  {
   "cell_type": "code",
   "execution_count": 9,
   "id": "16919be0-335f-4197-8f58-3486d353b2d4",
   "metadata": {},
   "outputs": [],
   "source": [
    "adata = sc.read(\"data/utuc_preprocessed.h5ad\")"
   ]
  },
  {
   "cell_type": "markdown",
   "id": "45510057-1c9c-400b-aba4-0a6ac34152ce",
   "metadata": {
    "tags": []
   },
   "source": [
    "## UTAG Processing"
   ]
  },
  {
   "cell_type": "code",
   "execution_count": null,
   "id": "b551460d-33a1-43c1-a85b-fa19d29a4ce7",
   "metadata": {},
   "outputs": [],
   "source": [
    "%%time\n",
    "results = UTAG(\n",
    "    adata,\n",
    "    slide_key=\"roi\",\n",
    "    max_dist=20,\n",
    "    normalization_mode=\"l1_norm\",\n",
    "    apply_clustering=True,\n",
    "    apply_umap=False,\n",
    "    parc_pcs=20,\n",
    "    clustering_method=\"parc\",\n",
    ")"
   ]
  },
  {
   "cell_type": "markdown",
   "id": "4972ad14-c2db-4f66-8c1a-cef53f80de23",
   "metadata": {
    "tags": []
   },
   "source": [
    "# Analysis of UTAG Results"
   ]
  },
  {
   "cell_type": "code",
   "execution_count": 15,
   "id": "34458878-69a0-406d-b164-4eee7b777aa5",
   "metadata": {},
   "outputs": [],
   "source": [
    "var_order = [\n",
    "    \"AlphaSMA(Pr141)\",\n",
    "    \"ColtypeI(Tm169)\",\n",
    "    \"Vimentin(Nd143)\",\n",
    "    \"CD16(Nd146)\",\n",
    "    \"CD68(Tb159)\",\n",
    "    \"CD206(Nd144)\",\n",
    "    \"CD163(Sm147)\",\n",
    "    \"CD11b(Sm149)\",\n",
    "    \"CD11c(Yb176)\",\n",
    "    \"CD31(Eu151)\",\n",
    "    \"CD3(Er170)\",\n",
    "    \"CD4(Gd156)\",\n",
    "    \"CD8a(Dy162)\",\n",
    "    \"CD45(Sm152)\",\n",
    "    \"CD45RO(Yb173)\",\n",
    "    \"FoxP3(Gd155)\",\n",
    "    \"CD20(Dy161)\",\n",
    "    \"PanKeratinC11(Nd148)\",\n",
    "    \"GATA3(Eu153)\",\n",
    "    \"ECadherin(Gd158)\",\n",
    "    \"KRT5(Dy163)\",\n",
    "    \"PD1(Nd150)\",\n",
    "    \"PDL1(Lu175)\",\n",
    "    \"GranzymeB(Er167)\",\n",
    "    \"Ki67(Er168)\",\n",
    "    \"DNA\",\n",
    "]\n",
    "\n",
    "adata = sc.read(\"data/UTUC_expression_parc_labelled.h5ad\")\n",
    "results = sc.read(\"data/UTUC_UTAG_expression_parc_labelled.h5ad\")\n",
    "adata.obs[\"UTAG Label_parc_1.0\"] = results.obs[\"UTAG Label_parc_1.0\"]"
   ]
  },
  {
   "cell_type": "markdown",
   "id": "6466b69b-e526-44c7-a03e-a9b097c1a02c",
   "metadata": {},
   "source": [
    "## Labeling UTAG Results"
   ]
  },
  {
   "cell_type": "code",
   "execution_count": null,
   "id": "c575d60b-7edf-4f15-a392-411c98042c4b",
   "metadata": {},
   "outputs": [],
   "source": [
    "UTAG_parc_1_mapper = {\n",
    "    0: \"Vessels\",\n",
    "    1: \"Tumor (Negative)\",\n",
    "    2: \"Tumor (Ki67)\",\n",
    "    3: \"Tumor (PanCK, GATA3, ECad, KRT5)\",\n",
    "    4: \"Tumor (PanCK, GATA3, ECad)\",\n",
    "    5: \"Stromal Immune Cells\",\n",
    "    6: \"Vessels\",\n",
    "    7: \"Tumor (KRT5)\",\n",
    "    8: \"Tumor (PanCK, GATA3, ECad)\",\n",
    "    9: \"Tumor (GATA3, ECad, KRT5)\\nImmune Cells\",\n",
    "    10: \"Stromal Macrophages\",\n",
    "    11: \"Stromal Macrophages\",\n",
    "    12: \"Tumor (PanCK, GATA3, ECad, KRT5)\",\n",
    "    13: \"Tumor (PanCK, GATA3, ECad, KRT5)\",\n",
    "    14: \"Tumor/Stroma (Interface)\\nImmune Cells\",\n",
    "    15: \"Tumor (PanCK, ECad)\\nImmune Cells\",\n",
    "    16: \"Tumor Macrophages\",\n",
    "    17: \"Stromal Immune Cells\",\n",
    "    18: \"Stromal Macrophages\",\n",
    "    19: \"Tumor (GATA3, Ki67)\",\n",
    "    20: \"Stromal Immune Cells\",\n",
    "    21: \"Stromal Immune Cells\",\n",
    "    22: \"Tumor (PanCK)\",\n",
    "    23: \"Tumor (KRT5)\",\n",
    "    24: \"Stromal Immune Cells\",\n",
    "    25: \"Tumor (ECad, KRT5)\",\n",
    "    26: \"Tumor (PanCK)\",\n",
    "    27: \"Stromal Immune Cells\",\n",
    "    28: \"Tumor (Negative)\",\n",
    "    29: \"Tumor (Negative)\",\n",
    "    30: \"Tumor (PanCK, GATA3, ECad, KRT5, Ki67)\\nImmune Cells\",\n",
    "    31: \"Tumor (PanCK, GATA3, ECad, KRT5, Ki67)\\nImmune Cells\",\n",
    "    32: \"Stromal CD4 T Cells\",\n",
    "    33: \"Vessels\",\n",
    "    34: \"Tumor (ECad)\\nImmune Cells\",\n",
    "}\n",
    "\n",
    "adata.obs[\"UTAG Label\"] = pd.Categorical(\n",
    "    results.obs[\"UTAG Label_parc_1.0\"].replace(UTAG_parc_1_mapper)\n",
    ")\n",
    "results.obs[\"UTAG Label\"] = adata.obs[\"UTAG Label\"]\n",
    "\n",
    "import seaborn as sns\n",
    "\n",
    "label1 = \"UTAG Label\"\n",
    "label2 = \"UTAG Label\"\n",
    "color1 = label1 + \"_colors\"\n",
    "color2 = label2 + \"_colors\"\n",
    "# import\n",
    "# results.uns['GATDU Label_colors'] = sns.color_palette().as_hex()\n",
    "adata.uns[color1] = np.array(\n",
    "    sns.color_palette(\"tab10\").as_hex()\n",
    "    + sns.color_palette(\"tab20b\").as_hex()\n",
    "    + sns.color_palette(\"tab20c\").as_hex()\n",
    ").astype(\"object\")\n",
    "results.uns[color2] = np.array(\n",
    "    sns.color_palette(\"tab10\").as_hex()\n",
    "    + sns.color_palette(\"tab20b\").as_hex()\n",
    "    + sns.color_palette(\"tab20c\").as_hex()\n",
    ").astype(\"object\")\n",
    "\n",
    "adata.uns[color1] = adata.uns[color1][: adata.obs[label1].unique().shape[0]]\n",
    "results.uns[color2] = results.uns[color2][: results.obs[label2].unique().shape[0]]"
   ]
  },
  {
   "cell_type": "markdown",
   "id": "f5f9e763-d793-4af8-a2c7-6570dfa1ffd4",
   "metadata": {},
   "source": [
    "## Visualization of Expression Levels in UTAG Clusters"
   ]
  },
  {
   "cell_type": "code",
   "execution_count": 17,
   "id": "a1cdb81d-a69b-464d-a06a-583a1ee4572b",
   "metadata": {},
   "outputs": [
    {
     "name": "stdout",
     "output_type": "stream",
     "text": [
      "WARNING: saving figure to file figures\\matrixplot_UTAG Label_labelled_matrix.pdf\n"
     ]
    },
    {
     "data": {
      "text/plain": [
       "{'mainplot_ax': <AxesSubplot:>,\n",
       " 'color_legend_ax': <AxesSubplot:title={'center':'Mean expression\\nin group'}>}"
      ]
     },
     "execution_count": 17,
     "metadata": {},
     "output_type": "execute_result"
    }
   ],
   "source": [
    "adata.obs[\"UTAG Label\"] = results.obs[\"UTAG Label\"]\n",
    "sc.pl.matrixplot(\n",
    "    adata,\n",
    "    var_names=var_order,\n",
    "    groupby=\"UTAG Label\",\n",
    "    cmap=\"viridis\",\n",
    "    vmin=0,\n",
    "    vmax=1,\n",
    "    save=\"UTAG Label_labelled_matrix.pdf\",\n",
    "    show=False,\n",
    ")"
   ]
  },
  {
   "cell_type": "code",
   "execution_count": null,
   "id": "1c63516c-a8c4-4af4-bd9a-c362a5fcf2f1",
   "metadata": {},
   "outputs": [],
   "source": [
    "adata.write(\"UTUC_expression_parc_labelled.h5ad\")\n",
    "results.write(\"UTUC_UTAG_expression_parc_labelled.h5ad\")"
   ]
  },
  {
   "cell_type": "markdown",
   "id": "7c50fc7e-6564-47a6-ae4d-dc74a336c710",
   "metadata": {},
   "source": [
    "# Tumor vs Stroma Benchmarking"
   ]
  },
  {
   "cell_type": "code",
   "execution_count": 22,
   "id": "f9e226de-36a4-4df8-8ff3-44c0fc84cfce",
   "metadata": {},
   "outputs": [],
   "source": [
    "df = pd.read_csv(\"data/utuc_domain_annotation.per_cell.csv\")"
   ]
  },
  {
   "cell_type": "code",
   "execution_count": 185,
   "id": "1ea70de5-f5fa-4eb0-97d1-7fc747de5858",
   "metadata": {},
   "outputs": [
    {
     "data": {
      "text/html": [
       "<div>\n",
       "<style scoped>\n",
       "    .dataframe tbody tr th:only-of-type {\n",
       "        vertical-align: middle;\n",
       "    }\n",
       "\n",
       "    .dataframe tbody tr th {\n",
       "        vertical-align: top;\n",
       "    }\n",
       "\n",
       "    .dataframe thead th {\n",
       "        text-align: right;\n",
       "    }\n",
       "</style>\n",
       "<table border=\"1\" class=\"dataframe\">\n",
       "  <thead>\n",
       "    <tr style=\"text-align: right;\">\n",
       "      <th></th>\n",
       "      <th>sample</th>\n",
       "      <th>roi</th>\n",
       "      <th>obj_id</th>\n",
       "      <th>domain_id</th>\n",
       "      <th>topological_domain</th>\n",
       "      <th>S</th>\n",
       "      <th>T</th>\n",
       "    </tr>\n",
       "  </thead>\n",
       "  <tbody>\n",
       "    <tr>\n",
       "      <th>0</th>\n",
       "      <td>20200914_PM1123</td>\n",
       "      <td>20200914_PM1123-01</td>\n",
       "      <td>7</td>\n",
       "      <td>S1</td>\n",
       "      <td>S</td>\n",
       "      <td>True</td>\n",
       "      <td>False</td>\n",
       "    </tr>\n",
       "    <tr>\n",
       "      <th>1</th>\n",
       "      <td>20200914_PM1123</td>\n",
       "      <td>20200914_PM1123-01</td>\n",
       "      <td>9</td>\n",
       "      <td>S1</td>\n",
       "      <td>S</td>\n",
       "      <td>True</td>\n",
       "      <td>False</td>\n",
       "    </tr>\n",
       "    <tr>\n",
       "      <th>2</th>\n",
       "      <td>20200914_PM1123</td>\n",
       "      <td>20200914_PM1123-01</td>\n",
       "      <td>11</td>\n",
       "      <td>S1</td>\n",
       "      <td>S</td>\n",
       "      <td>True</td>\n",
       "      <td>False</td>\n",
       "    </tr>\n",
       "    <tr>\n",
       "      <th>3</th>\n",
       "      <td>20200914_PM1123</td>\n",
       "      <td>20200914_PM1123-01</td>\n",
       "      <td>13</td>\n",
       "      <td>S1</td>\n",
       "      <td>S</td>\n",
       "      <td>True</td>\n",
       "      <td>False</td>\n",
       "    </tr>\n",
       "    <tr>\n",
       "      <th>4</th>\n",
       "      <td>20200914_PM1123</td>\n",
       "      <td>20200914_PM1123-01</td>\n",
       "      <td>14</td>\n",
       "      <td>S1</td>\n",
       "      <td>S</td>\n",
       "      <td>True</td>\n",
       "      <td>False</td>\n",
       "    </tr>\n",
       "    <tr>\n",
       "      <th>...</th>\n",
       "      <td>...</td>\n",
       "      <td>...</td>\n",
       "      <td>...</td>\n",
       "      <td>...</td>\n",
       "      <td>...</td>\n",
       "      <td>...</td>\n",
       "      <td>...</td>\n",
       "    </tr>\n",
       "    <tr>\n",
       "      <th>197049</th>\n",
       "      <td>20210310_PM57_B8</td>\n",
       "      <td>20210310_PM57_B8-02</td>\n",
       "      <td>6870</td>\n",
       "      <td>T2</td>\n",
       "      <td>T</td>\n",
       "      <td>False</td>\n",
       "      <td>True</td>\n",
       "    </tr>\n",
       "    <tr>\n",
       "      <th>197050</th>\n",
       "      <td>20210310_PM57_B8</td>\n",
       "      <td>20210310_PM57_B8-02</td>\n",
       "      <td>6873</td>\n",
       "      <td>S1</td>\n",
       "      <td>S</td>\n",
       "      <td>True</td>\n",
       "      <td>False</td>\n",
       "    </tr>\n",
       "    <tr>\n",
       "      <th>197051</th>\n",
       "      <td>20210310_PM57_B8</td>\n",
       "      <td>20210310_PM57_B8-02</td>\n",
       "      <td>6877</td>\n",
       "      <td>S1</td>\n",
       "      <td>S</td>\n",
       "      <td>True</td>\n",
       "      <td>False</td>\n",
       "    </tr>\n",
       "    <tr>\n",
       "      <th>197052</th>\n",
       "      <td>20210310_PM57_B8</td>\n",
       "      <td>20210310_PM57_B8-02</td>\n",
       "      <td>6881</td>\n",
       "      <td>S1</td>\n",
       "      <td>S</td>\n",
       "      <td>True</td>\n",
       "      <td>False</td>\n",
       "    </tr>\n",
       "    <tr>\n",
       "      <th>197053</th>\n",
       "      <td>20210310_PM57_B8</td>\n",
       "      <td>20210310_PM57_B8-02</td>\n",
       "      <td>6885</td>\n",
       "      <td>S1</td>\n",
       "      <td>S</td>\n",
       "      <td>True</td>\n",
       "      <td>False</td>\n",
       "    </tr>\n",
       "  </tbody>\n",
       "</table>\n",
       "<p>197054 rows × 7 columns</p>\n",
       "</div>"
      ],
      "text/plain": [
       "                  sample                  roi  obj_id domain_id  \\\n",
       "0        20200914_PM1123   20200914_PM1123-01       7        S1   \n",
       "1        20200914_PM1123   20200914_PM1123-01       9        S1   \n",
       "2        20200914_PM1123   20200914_PM1123-01      11        S1   \n",
       "3        20200914_PM1123   20200914_PM1123-01      13        S1   \n",
       "4        20200914_PM1123   20200914_PM1123-01      14        S1   \n",
       "...                  ...                  ...     ...       ...   \n",
       "197049  20210310_PM57_B8  20210310_PM57_B8-02    6870        T2   \n",
       "197050  20210310_PM57_B8  20210310_PM57_B8-02    6873        S1   \n",
       "197051  20210310_PM57_B8  20210310_PM57_B8-02    6877        S1   \n",
       "197052  20210310_PM57_B8  20210310_PM57_B8-02    6881        S1   \n",
       "197053  20210310_PM57_B8  20210310_PM57_B8-02    6885        S1   \n",
       "\n",
       "       topological_domain      S      T  \n",
       "0                       S   True  False  \n",
       "1                       S   True  False  \n",
       "2                       S   True  False  \n",
       "3                       S   True  False  \n",
       "4                       S   True  False  \n",
       "...                   ...    ...    ...  \n",
       "197049                  T  False   True  \n",
       "197050                  S   True  False  \n",
       "197051                  S   True  False  \n",
       "197052                  S   True  False  \n",
       "197053                  S   True  False  \n",
       "\n",
       "[197054 rows x 7 columns]"
      ]
     },
     "execution_count": 185,
     "metadata": {},
     "output_type": "execute_result"
    }
   ],
   "source": [
    "df"
   ]
  },
  {
   "cell_type": "code",
   "execution_count": 23,
   "id": "f64bb498-9f8f-48f2-aff9-a77355e7490b",
   "metadata": {},
   "outputs": [
    {
     "data": {
      "image/png": "[encoded data removed]",
      "text/plain": [
       "<Figure size 400x400 with 2 Axes>"
      ]
     },
     "metadata": {
      "image/png": {
       "height": 353,
       "width": 471
      }
     },
     "output_type": "display_data"
    }
   ],
   "source": [
    "import matplotlib as mpl\n",
    "\n",
    "UTAG_parc_1_mapper_broad = {\n",
    "    0: \"Stroma\",\n",
    "    1: \"Tumor\",\n",
    "    2: \"Tumor\",\n",
    "    3: \"Tumor\",\n",
    "    4: \"Tumor\",\n",
    "    5: \"Stroma\",\n",
    "    6: \"Stroma\",\n",
    "    7: \"Tumor\",\n",
    "    8: \"Tumor\",\n",
    "    9: \"Tumor\",\n",
    "    10: \"Stroma\",\n",
    "    11: \"Stroma\",\n",
    "    12: \"Tumor\",\n",
    "    13: \"Tumor\",\n",
    "    14: \"Stroma\",\n",
    "    15: \"Tumor\",\n",
    "    16: \"Tumor\",\n",
    "    17: \"Stroma\",\n",
    "    18: \"Stroma\",\n",
    "    19: \"Tumor\",\n",
    "    20: \"Stroma\",\n",
    "    21: \"Stroma\",\n",
    "    22: \"Tumor\",\n",
    "    23: \"Tumor\",\n",
    "    24: \"Stroma\",\n",
    "    25: \"Tumor\",\n",
    "    26: \"Tumor\",\n",
    "    27: \"Stroma\",\n",
    "    28: \"Tumor\",\n",
    "    29: \"Tumor\",\n",
    "    30: \"Tumor\",\n",
    "    31: \"Tumor\",\n",
    "    32: \"Stroma\",\n",
    "    33: \"Stroma\",\n",
    "    34: \"Tumor\",\n",
    "}\n",
    "\n",
    "cat_order = [\n",
    "    \"Stroma\",\n",
    "    \"Tumor\"\n",
    "]\n",
    "\n",
    "adata.obs[\"UTAG Label_broad\"] = pd.Categorical(\n",
    "    results.obs[\"UTAG Label_parc_1.0\"].replace(UTAG_parc_1_mapper_broad),\n",
    "    categories=cat_order,\n",
    ")\n",
    "\n",
    "benchmark_df = adata.obs.merge(df, on=[\"sample\", \"roi\", \"obj_id\"])[\n",
    "    [\n",
    "        \"sample\",\n",
    "        \"roi\",\n",
    "        \"obj_id\",\n",
    "        \"UTAG Label_broad\",\n",
    "        \"topological_domain\",\n",
    "        \"cell_type_broad\",\n",
    "    ]\n",
    "]\n",
    "benchmark_df[\"Annotation\"] = benchmark_df[\"topological_domain\"].replace(\n",
    "    {\"S\": \"Stroma\", \"T\": \"Tumor\"}\n",
    ")\n",
    "\n",
    "from sklearn.metrics import (\n",
    "    ConfusionMatrixDisplay,\n",
    "    classification_report,\n",
    "    confusion_matrix,\n",
    ")\n",
    "\n",
    "cm = confusion_matrix(\n",
    "    benchmark_df[\"Annotation\"],\n",
    "    benchmark_df[\"UTAG Label_broad\"],\n",
    "    labels=[\"Tumor\", \"Stroma\"],\n",
    ")\n",
    "disp = ConfusionMatrixDisplay(confusion_matrix=cm, display_labels=[\"Tumor\", \"Stroma\"])\n",
    "sns.set(font_scale=1.3)\n",
    "\n",
    "disp.plot(cmap=\"Blues\")\n",
    "plt.grid(False)\n",
    "plt.savefig(\"figures/utuc_Tumor vs Stroma Confusion Matrix.pdf\")\n",
    "plt.show()\n",
    "\n",
    "clf_report = classification_report(\n",
    "    benchmark_df[\"Annotation\"],\n",
    "    benchmark_df[\"UTAG Label_broad\"],\n",
    "    target_names=[\"Tumor\", \"Stroma\"],\n",
    "    output_dict=True,\n",
    ")\n",
    "# .iloc[:-1, :] to exclude support"
   ]
  },
  {
   "cell_type": "code",
   "execution_count": 27,
   "id": "444eac0a-f344-4cdd-a7db-304f192aeb80",
   "metadata": {},
   "outputs": [
    {
     "data": {
      "image/png": "[encoded data removed]",
      "text/plain": [
       "<Figure size 400x400 with 2 Axes>"
      ]
     },
     "metadata": {
      "image/png": {
       "height": 395,
       "width": 395
      }
     },
     "output_type": "display_data"
    }
   ],
   "source": [
    "import numpy as np\n",
    "import seaborn as sns\n",
    "\n",
    "rng = np.random.default_rng(12345)\n",
    "\n",
    "from sklearn.metrics import homogeneity_score, jaccard_score, rand_score\n",
    "\n",
    "random_rand_score_list = []\n",
    "random_homogeneity_score_list = []\n",
    "\n",
    "rand_score_celltype_list = []\n",
    "rand_score_utag_list = []\n",
    "\n",
    "homogeneity_score_celltype_list = []\n",
    "homogeneity_score_utag_list = []\n",
    "\n",
    "for key in benchmark_df[\"roi\"].unique():\n",
    "    batch = benchmark_df[benchmark_df[\"roi\"] == key]\n",
    "\n",
    "    rints = rng.integers(\n",
    "        low=0, high=len(batch[\"cell_type_broad\"].unique()), size=len(batch)\n",
    "    ).astype(str)\n",
    "\n",
    "    random_rand_score = rand_score(batch[\"topological_domain\"], rints)\n",
    "    random_homogeneity_score = homogeneity_score(batch[\"topological_domain\"], rints)\n",
    "\n",
    "    random_rand_score_list.append(random_rand_score)\n",
    "    random_homogeneity_score_list.append(random_homogeneity_score)\n",
    "\n",
    "    rand_score_celltype = rand_score(\n",
    "        batch[\"topological_domain\"], batch[\"cell_type_broad\"]\n",
    "    )\n",
    "    homogeneity_score_celltype = homogeneity_score(\n",
    "        batch[\"topological_domain\"], batch[\"cell_type_broad\"]\n",
    "    )\n",
    "\n",
    "    rand_score_celltype_list.append(rand_score_celltype)\n",
    "    homogeneity_score_celltype_list.append(homogeneity_score_celltype)\n",
    "\n",
    "    rand_score_utag = rand_score(batch[\"topological_domain\"], batch[\"UTAG Label_broad\"])\n",
    "    homogeneity_score_utag = homogeneity_score(\n",
    "        batch[\"topological_domain\"], batch[\"UTAG Label_broad\"]\n",
    "    )\n",
    "\n",
    "    rand_score_utag_list.append(rand_score_utag)\n",
    "    homogeneity_score_utag_list.append(homogeneity_score_utag)\n",
    "\n",
    "import seaborn as sns\n",
    "from sklearn.metrics import homogeneity_score, rand_score\n",
    "\n",
    "rand_score_df = pd.DataFrame(\n",
    "    {\n",
    "        \"Random\": random_rand_score_list,\n",
    "        \"Cell Type\": rand_score_celltype_list,\n",
    "        \"UTAG\": rand_score_utag_list,\n",
    "    }\n",
    ")\n",
    "homogeneity_score_df = pd.DataFrame(\n",
    "    {\n",
    "        \"Random\": random_homogeneity_score_list,\n",
    "        \"Cell Type\": homogeneity_score_celltype_list,\n",
    "        \"UTAG\": homogeneity_score_utag_list,\n",
    "    }\n",
    ")\n",
    "\n",
    "sc.settings.set_figure_params(dpi=100, dpi_save=300, fontsize=8)\n",
    "plt.figure(figsize=(4, 4), dpi=100)\n",
    "# plt.suptitle('Scoring Against Experts', fontsize = 12, x = 0.54, y = 0.98)\n",
    "plt.subplot(1, 2, 1)\n",
    "sns.boxplot(data=rand_score_df, palette=\"Blues\", fliersize=0)\n",
    "sns.stripplot(data=rand_score_df, color=\"0.25\", s=3)\n",
    "plt.title(\"Rand Score\", fontsize=10)\n",
    "plt.subplot(1, 2, 2)\n",
    "sns.boxplot(data=homogeneity_score_df, palette=\"Blues\", fliersize=0)\n",
    "sns.stripplot(data=homogeneity_score_df, color=\"0.25\", s=3)\n",
    "plt.title(\"Homogeneity Score\", fontsize=10)\n",
    "plt.tight_layout()\n",
    "plt.savefig(\"figures/utuc_performance.pdf\")\n",
    "plt.show()"
   ]
  },
  {
   "cell_type": "code",
   "execution_count": 28,
   "id": "8925895c-d35e-4562-b0fc-1aa107ef7612",
   "metadata": {},
   "outputs": [
    {
     "name": "stdout",
     "output_type": "stream",
     "text": [
      "Rand Score: Random vs UTAG\n"
     ]
    },
    {
     "data": {
      "text/html": [
       "<div>\n",
       "<style scoped>\n",
       "    .dataframe tbody tr th:only-of-type {\n",
       "        vertical-align: middle;\n",
       "    }\n",
       "\n",
       "    .dataframe tbody tr th {\n",
       "        vertical-align: top;\n",
       "    }\n",
       "\n",
       "    .dataframe thead th {\n",
       "        text-align: right;\n",
       "    }\n",
       "</style>\n",
       "<table border=\"1\" class=\"dataframe\">\n",
       "  <thead>\n",
       "    <tr style=\"text-align: right;\">\n",
       "      <th></th>\n",
       "      <th>U-val</th>\n",
       "      <th>alternative</th>\n",
       "      <th>p-val</th>\n",
       "      <th>RBC</th>\n",
       "      <th>CLES</th>\n",
       "    </tr>\n",
       "  </thead>\n",
       "  <tbody>\n",
       "    <tr>\n",
       "      <th>MWU</th>\n",
       "      <td>0.0</td>\n",
       "      <td>two-sided</td>\n",
       "      <td>0.000002</td>\n",
       "      <td>1.0</td>\n",
       "      <td>0.0</td>\n",
       "    </tr>\n",
       "  </tbody>\n",
       "</table>\n",
       "</div>"
      ],
      "text/plain": [
       "     U-val alternative     p-val  RBC  CLES\n",
       "MWU    0.0   two-sided  0.000002  1.0   0.0"
      ]
     },
     "metadata": {},
     "output_type": "display_data"
    },
    {
     "name": "stdout",
     "output_type": "stream",
     "text": [
      "Rand Score: Cell Type vs UTAG\n"
     ]
    },
    {
     "data": {
      "text/html": [
       "<div>\n",
       "<style scoped>\n",
       "    .dataframe tbody tr th:only-of-type {\n",
       "        vertical-align: middle;\n",
       "    }\n",
       "\n",
       "    .dataframe tbody tr th {\n",
       "        vertical-align: top;\n",
       "    }\n",
       "\n",
       "    .dataframe thead th {\n",
       "        text-align: right;\n",
       "    }\n",
       "</style>\n",
       "<table border=\"1\" class=\"dataframe\">\n",
       "  <thead>\n",
       "    <tr style=\"text-align: right;\">\n",
       "      <th></th>\n",
       "      <th>U-val</th>\n",
       "      <th>alternative</th>\n",
       "      <th>p-val</th>\n",
       "      <th>RBC</th>\n",
       "      <th>CLES</th>\n",
       "    </tr>\n",
       "  </thead>\n",
       "  <tbody>\n",
       "    <tr>\n",
       "      <th>MWU</th>\n",
       "      <td>43.0</td>\n",
       "      <td>two-sided</td>\n",
       "      <td>0.001449</td>\n",
       "      <td>0.664062</td>\n",
       "      <td>0.167969</td>\n",
       "    </tr>\n",
       "  </tbody>\n",
       "</table>\n",
       "</div>"
      ],
      "text/plain": [
       "     U-val alternative     p-val       RBC      CLES\n",
       "MWU   43.0   two-sided  0.001449  0.664062  0.167969"
      ]
     },
     "metadata": {},
     "output_type": "display_data"
    },
    {
     "name": "stdout",
     "output_type": "stream",
     "text": [
      "Homogeneity Score: Random vs UTAG\n"
     ]
    },
    {
     "data": {
      "text/html": [
       "<div>\n",
       "<style scoped>\n",
       "    .dataframe tbody tr th:only-of-type {\n",
       "        vertical-align: middle;\n",
       "    }\n",
       "\n",
       "    .dataframe tbody tr th {\n",
       "        vertical-align: top;\n",
       "    }\n",
       "\n",
       "    .dataframe thead th {\n",
       "        text-align: right;\n",
       "    }\n",
       "</style>\n",
       "<table border=\"1\" class=\"dataframe\">\n",
       "  <thead>\n",
       "    <tr style=\"text-align: right;\">\n",
       "      <th></th>\n",
       "      <th>U-val</th>\n",
       "      <th>alternative</th>\n",
       "      <th>p-val</th>\n",
       "      <th>RBC</th>\n",
       "      <th>CLES</th>\n",
       "    </tr>\n",
       "  </thead>\n",
       "  <tbody>\n",
       "    <tr>\n",
       "      <th>MWU</th>\n",
       "      <td>0.0</td>\n",
       "      <td>two-sided</td>\n",
       "      <td>0.000002</td>\n",
       "      <td>1.0</td>\n",
       "      <td>0.0</td>\n",
       "    </tr>\n",
       "  </tbody>\n",
       "</table>\n",
       "</div>"
      ],
      "text/plain": [
       "     U-val alternative     p-val  RBC  CLES\n",
       "MWU    0.0   two-sided  0.000002  1.0   0.0"
      ]
     },
     "metadata": {},
     "output_type": "display_data"
    },
    {
     "name": "stdout",
     "output_type": "stream",
     "text": [
      "Homogeneity Score: Cell Type vs UTAG\n"
     ]
    },
    {
     "data": {
      "text/html": [
       "<div>\n",
       "<style scoped>\n",
       "    .dataframe tbody tr th:only-of-type {\n",
       "        vertical-align: middle;\n",
       "    }\n",
       "\n",
       "    .dataframe tbody tr th {\n",
       "        vertical-align: top;\n",
       "    }\n",
       "\n",
       "    .dataframe thead th {\n",
       "        text-align: right;\n",
       "    }\n",
       "</style>\n",
       "<table border=\"1\" class=\"dataframe\">\n",
       "  <thead>\n",
       "    <tr style=\"text-align: right;\">\n",
       "      <th></th>\n",
       "      <th>U-val</th>\n",
       "      <th>alternative</th>\n",
       "      <th>p-val</th>\n",
       "      <th>RBC</th>\n",
       "      <th>CLES</th>\n",
       "    </tr>\n",
       "  </thead>\n",
       "  <tbody>\n",
       "    <tr>\n",
       "      <th>MWU</th>\n",
       "      <td>82.0</td>\n",
       "      <td>two-sided</td>\n",
       "      <td>0.086374</td>\n",
       "      <td>0.359375</td>\n",
       "      <td>0.320312</td>\n",
       "    </tr>\n",
       "  </tbody>\n",
       "</table>\n",
       "</div>"
      ],
      "text/plain": [
       "     U-val alternative     p-val       RBC      CLES\n",
       "MWU   82.0   two-sided  0.086374  0.359375  0.320312"
      ]
     },
     "metadata": {},
     "output_type": "display_data"
    }
   ],
   "source": [
    "import pingouin as pg\n",
    "\n",
    "print(\"Rand Score: Random vs UTAG\")\n",
    "display(\n",
    "    pg.mwu(x=rand_score_df[\"Random\"], y=rand_score_df[\"UTAG\"], alternative=\"two-sided\")\n",
    ")\n",
    "print(\"Rand Score: Cell Type vs UTAG\")\n",
    "display(\n",
    "    pg.mwu(\n",
    "        x=rand_score_df[\"Cell Type\"], y=rand_score_df[\"UTAG\"], alternative=\"two-sided\"\n",
    "    )\n",
    ")\n",
    "print(\"Homogeneity Score: Random vs UTAG\")\n",
    "display(\n",
    "    pg.mwu(\n",
    "        x=homogeneity_score_df[\"Random\"],\n",
    "        y=homogeneity_score_df[\"UTAG\"],\n",
    "        alternative=\"two-sided\",\n",
    "    )\n",
    ")\n",
    "print(\"Homogeneity Score: Cell Type vs UTAG\")\n",
    "display(\n",
    "    pg.mwu(\n",
    "        x=homogeneity_score_df[\"Cell Type\"],\n",
    "        y=homogeneity_score_df[\"UTAG\"],\n",
    "        alternative=\"two-sided\",\n",
    "    )\n",
    ")"
   ]
  }
 ],
 "metadata": {
  "kernelspec": {
   "display_name": "Python 3 (ipykernel)",
   "language": "python",
   "name": "python3"
  },
  "language_info": {
   "codemirror_mode": {
    "name": "ipython",
    "version": 3
   },
   "file_extension": ".py",
   "mimetype": "text/x-python",
   "name": "python",
   "nbconvert_exporter": "python",
   "pygments_lexer": "ipython3",
   "version": "3.8.10"
  },
  "toc-autonumbering": true
 },
 "nbformat": 4,
 "nbformat_minor": 5
}
